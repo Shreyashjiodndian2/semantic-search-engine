{
 "cells": [
  {
   "cell_type": "code",
   "execution_count": 1,
   "metadata": {},
   "outputs": [
    {
     "name": "stderr",
     "output_type": "stream",
     "text": [
      "/home/rootdaenib/anaconda3/envs/semanticSearch/lib/python3.10/site-packages/cupy/_environment.py:438: UserWarning: \n",
      "--------------------------------------------------------------------------------\n",
      "\n",
      "  CuPy may not function correctly because multiple CuPy packages are installed\n",
      "  in your environment:\n",
      "\n",
      "    cupy, cupy-cuda116\n",
      "\n",
      "  Follow these steps to resolve this issue:\n",
      "\n",
      "    1. For all packages listed above, run the following command to remove all\n",
      "       existing CuPy installations:\n",
      "\n",
      "         $ pip uninstall <package_name>\n",
      "\n",
      "      If you previously installed CuPy via conda, also run the following:\n",
      "\n",
      "         $ conda uninstall cupy\n",
      "\n",
      "    2. Install the appropriate CuPy package.\n",
      "       Refer to the Installation Guide for detailed instructions.\n",
      "\n",
      "         https://docs.cupy.dev/en/stable/install.html\n",
      "\n",
      "--------------------------------------------------------------------------------\n",
      "\n",
      "  warnings.warn(f'''\n",
      "2022-10-15 18:30:17.551004: I tensorflow/core/platform/cpu_feature_guard.cc:193] This TensorFlow binary is optimized with oneAPI Deep Neural Network Library (oneDNN) to use the following CPU instructions in performance-critical operations:  AVX2 FMA\n",
      "To enable them in other operations, rebuild TensorFlow with the appropriate compiler flags.\n",
      "2022-10-15 18:30:17.873647: E tensorflow/stream_executor/cuda/cuda_blas.cc:2981] Unable to register cuBLAS factory: Attempting to register factory for plugin cuBLAS when one has already been registered\n",
      "2022-10-15 18:30:18.811686: W tensorflow/stream_executor/platform/default/dso_loader.cc:64] Could not load dynamic library 'libnvinfer.so.7'; dlerror: libnvinfer.so.7: cannot open shared object file: No such file or directory\n",
      "2022-10-15 18:30:18.811971: W tensorflow/stream_executor/platform/default/dso_loader.cc:64] Could not load dynamic library 'libnvinfer_plugin.so.7'; dlerror: libnvinfer_plugin.so.7: cannot open shared object file: No such file or directory\n",
      "2022-10-15 18:30:18.811986: W tensorflow/compiler/tf2tensorrt/utils/py_utils.cc:38] TF-TRT Warning: Cannot dlopen some TensorRT libraries. If you would like to use Nvidia GPU with TensorRT, please make sure the missing libraries mentioned above are installed properly.\n"
     ]
    }
   ],
   "source": [
    "from selenium import webdriver\n",
    "from selenium.webdriver.common.keys import Keys\n",
    "from selenium.webdriver.common.by import By\n",
    "from selenium.webdriver.support.ui import WebDriverWait\n",
    "from selenium.webdriver.support import expected_conditions as EC\n",
    "import spacy\n",
    "from tqdm import tqdm\n",
    "import json"
   ]
  },
  {
   "cell_type": "code",
   "execution_count": 2,
   "metadata": {},
   "outputs": [],
   "source": [
    "driver = webdriver.Chrome(executable_path=\"./chromedriver\")"
   ]
  },
  {
   "cell_type": "code",
   "execution_count": 3,
   "metadata": {},
   "outputs": [],
   "source": [
    "driver.get(\"https://documentation.softwareag.com/webmethods/mywebmethods_server/mws10-11/10-11_MWSw/index.html\")\n"
   ]
  },
  {
   "cell_type": "code",
   "execution_count": 4,
   "metadata": {},
   "outputs": [],
   "source": [
    "links = [href.find_element(By.TAG_NAME, 'a').get_attribute(\"href\") for href in driver.find_element(By.ID, \"toc_content\").find_elements(By.TAG_NAME, \"ul\")]\n"
   ]
  },
  {
   "cell_type": "code",
   "execution_count": 5,
   "metadata": {},
   "outputs": [],
   "source": [
    "links = [link for link in links if link is not None]"
   ]
  },
  {
   "cell_type": "code",
   "execution_count": 6,
   "metadata": {},
   "outputs": [],
   "source": [
    "links = links[3:]"
   ]
  },
  {
   "cell_type": "code",
   "execution_count": 7,
   "metadata": {},
   "outputs": [],
   "source": [
    "dataJson = {}"
   ]
  },
  {
   "cell_type": "code",
   "execution_count": 8,
   "metadata": {},
   "outputs": [],
   "source": [
    "spacy.prefer_gpu()\n",
    "nlp = spacy.load(\"en_core_web_trf\")"
   ]
  },
  {
   "cell_type": "code",
   "execution_count": 9,
   "metadata": {},
   "outputs": [
    {
     "data": {
      "text/plain": [
       "['https://documentation.softwareag.com/webmethods/mywebmethods_server/mws10-11/10-11_MWSw/my-webmethods-server-webhelp/co-broker_deprecation.html#',\n",
       " 'https://documentation.softwareag.com/webmethods/mywebmethods_server/mws10-11/10-11_MWSw/my-webmethods-server-webhelp/co-about_logging_into_and_out_of_my_webmethods.html#',\n",
       " 'https://documentation.softwareag.com/webmethods/mywebmethods_server/mws10-11/10-11_MWSw/my-webmethods-server-webhelp/co-my_webmethods_user_interface.html#',\n",
       " 'https://documentation.softwareag.com/webmethods/mywebmethods_server/mws10-11/10-11_MWSw/my-webmethods-server-webhelp/ta-resizing_the_content_area_and_navigation_pane.html#',\n",
       " 'https://documentation.softwareag.com/webmethods/mywebmethods_server/mws10-11/10-11_MWSw/my-webmethods-server-webhelp/ta-closing_tabs.html#',\n",
       " 'https://documentation.softwareag.com/webmethods/mywebmethods_server/mws10-11/10-11_MWSw/my-webmethods-server-webhelp/re-monitoring_section_of_the_navigate_tab.html#',\n",
       " 'https://documentation.softwareag.com/webmethods/mywebmethods_server/mws10-11/10-11_MWSw/my-webmethods-server-webhelp/re-layout_section_of_the_tools_tab.html#',\n",
       " 'https://documentation.softwareag.com/webmethods/mywebmethods_server/mws10-11/10-11_MWSw/my-webmethods-server-webhelp/co-the_my_webmethods_profile.html#',\n",
       " 'https://documentation.softwareag.com/webmethods/mywebmethods_server/mws10-11/10-11_MWSw/my-webmethods-server-webhelp/re-my_webmethods_user_preferences.html#',\n",
       " 'https://documentation.softwareag.com/webmethods/mywebmethods_server/mws10-11/10-11_MWSw/my-webmethods-server-webhelp/ta-defining_your_business_calendar.html#',\n",
       " 'https://documentation.softwareag.com/webmethods/mywebmethods_server/mws10-11/10-11_MWSw/my-webmethods-server-webhelp/ta-changing_time_zone_2.html#',\n",
       " 'https://documentation.softwareag.com/webmethods/mywebmethods_server/mws10-11/10-11_MWSw/my-webmethods-server-webhelp/co-about_workspaces.html#',\n",
       " 'https://documentation.softwareag.com/webmethods/mywebmethods_server/mws10-11/10-11_MWSw/my-webmethods-server-webhelp/ta-creating_new_empty_workspaces.html#',\n",
       " 'https://documentation.softwareag.com/webmethods/mywebmethods_server/mws10-11/10-11_MWSw/my-webmethods-server-webhelp/re-workspace_sharing_permissions.html#',\n",
       " 'https://documentation.softwareag.com/webmethods/mywebmethods_server/mws10-11/10-11_MWSw/my-webmethods-server-webhelp/ta-adding_workspaces_to_the_navigation_pane.html#',\n",
       " 'https://documentation.softwareag.com/webmethods/mywebmethods_server/mws10-11/10-11_MWSw/my-webmethods-server-webhelp/co-about_workspace_content.html#',\n",
       " 'https://documentation.softwareag.com/webmethods/mywebmethods_server/mws10-11/10-11_MWSw/my-webmethods-server-webhelp/re-mws_monitoring_and_diagnostics_tools.html#',\n",
       " 'https://documentation.softwareag.com/webmethods/mywebmethods_server/mws10-11/10-11_MWSw/my-webmethods-server-webhelp/ta-attaching_files_to_a_workspace.html#',\n",
       " 'https://documentation.softwareag.com/webmethods/mywebmethods_server/mws10-11/10-11_MWSw/my-webmethods-server-webhelp/ta-adding_bookmarks_to_a_workspace.html#',\n",
       " 'https://documentation.softwareag.com/webmethods/mywebmethods_server/mws10-11/10-11_MWSw/my-webmethods-server-webhelp/ta-adding_directory_browsers_to_workspaces.html#',\n",
       " 'https://documentation.softwareag.com/webmethods/mywebmethods_server/mws10-11/10-11_MWSw/my-webmethods-server-webhelp/ta-adding_formatted_text_to_workspaces.html#',\n",
       " 'https://documentation.softwareag.com/webmethods/mywebmethods_server/mws10-11/10-11_MWSw/my-webmethods-server-webhelp/ta-adding_an_image_to_a_workspace.html#',\n",
       " 'https://documentation.softwareag.com/webmethods/mywebmethods_server/mws10-11/10-11_MWSw/my-webmethods-server-webhelp/ta-adding_simple_notes_to_a_workspace.html#',\n",
       " 'https://documentation.softwareag.com/webmethods/mywebmethods_server/mws10-11/10-11_MWSw/my-webmethods-server-webhelp/ta-adding_your_calendar_to_a_workspace.html#',\n",
       " 'https://documentation.softwareag.com/webmethods/mywebmethods_server/mws10-11/10-11_MWSw/my-webmethods-server-webhelp/co-about_searching_for_users_groups_and_roles.html#',\n",
       " 'https://documentation.softwareag.com/webmethods/mywebmethods_server/mws10-11/10-11_MWSw/my-webmethods-server-webhelp/co-about_searching_for_data.html#',\n",
       " 'https://documentation.softwareag.com/webmethods/mywebmethods_server/mws10-11/10-11_MWSw/my-webmethods-server-webhelp/ta-re-executing_a_saved_search.html#',\n",
       " 'https://documentation.softwareag.com/webmethods/mywebmethods_server/mws10-11/10-11_MWSw/my-webmethods-server-webhelp/ta-sorting_the_search_results.html#',\n",
       " 'https://documentation.softwareag.com/webmethods/mywebmethods_server/mws10-11/10-11_MWSw/my-webmethods-server-webhelp/co-taking_action_against_items_in_the_search_results.html#',\n",
       " 'https://documentation.softwareag.com/webmethods/mywebmethods_server/mws10-11/10-11_MWSw/my-webmethods-server-webhelp/ta-taking_action_against_multiple_items_in_the_search_results.html#',\n",
       " 'https://documentation.softwareag.com/webmethods/mywebmethods_server/mws10-11/10-11_MWSw/my-webmethods-server-webhelp/to-about_this_guide_2.html#',\n",
       " 'https://documentation.softwareag.com/webmethods/mywebmethods_server/mws10-11/10-11_MWSw/my-webmethods-server-webhelp/co-exporting_assets_deployer.html#',\n",
       " 'https://documentation.softwareag.com/webmethods/mywebmethods_server/mws10-11/10-11_MWSw/my-webmethods-server-webhelp/to-getting_started_with_my_webmethods_server.html#',\n",
       " 'https://documentation.softwareag.com/webmethods/mywebmethods_server/mws10-11/10-11_MWSw/my-webmethods-server-webhelp/co-introduction_to_my_webmethods_server.html#',\n",
       " 'https://documentation.softwareag.com/webmethods/mywebmethods_server/mws10-11/10-11_MWSw/my-webmethods-server-webhelp/co-post-installation_configuration_changes.html#',\n",
       " 'https://documentation.softwareag.com/webmethods/mywebmethods_server/mws10-11/10-11_MWSw/my-webmethods-server-webhelp/ta-configuring-mysql-community-edition.html#',\n",
       " 'https://documentation.softwareag.com/webmethods/mywebmethods_server/mws10-11/10-11_MWSw/my-webmethods-server-webhelp/ta-adding_servers_to_a_whitelist.html#',\n",
       " 'https://documentation.softwareag.com/webmethods/mywebmethods_server/mws10-11/10-11_MWSw/my-webmethods-server-webhelp/co-using_my_webmethods_server_as_an_https_client.html#',\n",
       " 'https://documentation.softwareag.com/webmethods/mywebmethods_server/mws10-11/10-11_MWSw/my-webmethods-server-webhelp/ta-importing_ca_certificates.html#',\n",
       " 'https://documentation.softwareag.com/webmethods/mywebmethods_server/mws10-11/10-11_MWSw/my-webmethods-server-webhelp/ta-replacing_keystores.html#',\n",
       " 'https://documentation.softwareag.com/webmethods/mywebmethods_server/mws10-11/10-11_MWSw/my-webmethods-server-webhelp/ta-adding_an_authentication_certificate.html#',\n",
       " 'https://documentation.softwareag.com/webmethods/mywebmethods_server/mws10-11/10-11_MWSw/my-webmethods-server-webhelp/co-integration_with_web_servers.html#',\n",
       " 'https://documentation.softwareag.com/webmethods/mywebmethods_server/mws10-11/10-11_MWSw/my-webmethods-server-webhelp/co-about_mws_docker_containers.html#',\n",
       " 'https://documentation.softwareag.com/webmethods/mywebmethods_server/mws10-11/10-11_MWSw/my-webmethods-server-webhelp/co-prerequisites_for_building_images.html#',\n",
       " 'https://documentation.softwareag.com/webmethods/mywebmethods_server/mws10-11/10-11_MWSw/my-webmethods-server-webhelp/co-about_mws_docker_env_vars.html#wwID0EJT2O',\n",
       " 'https://documentation.softwareag.com/webmethods/mywebmethods_server/mws10-11/10-11_MWSw/my-webmethods-server-webhelp/re-mws_docker_env_vars.html#',\n",
       " 'https://documentation.softwareag.com/webmethods/mywebmethods_server/mws10-11/10-11_MWSw/my-webmethods-server-webhelp/co-about_volumes_validation.html#',\n",
       " 'https://documentation.softwareag.com/webmethods/mywebmethods_server/mws10-11/10-11_MWSw/my-webmethods-server-webhelp/co-custom_app_deployment.html#',\n",
       " 'https://documentation.softwareag.com/webmethods/mywebmethods_server/mws10-11/10-11_MWSw/my-webmethods-server-webhelp/co-container-config-examples.html#',\n",
       " 'https://documentation.softwareag.com/webmethods/mywebmethods_server/mws10-11/10-11_MWSw/my-webmethods-server-webhelp/ta-configure_basic_auth_msr.html#',\n",
       " 'https://documentation.softwareag.com/webmethods/mywebmethods_server/mws10-11/10-11_MWSw/my-webmethods-server-webhelp/co-implementing_custom_health_indicators.html#',\n",
       " 'https://documentation.softwareag.com/webmethods/mywebmethods_server/mws10-11/10-11_MWSw/my-webmethods-server-webhelp/re-healthecheck_json_sample.html#',\n",
       " 'https://documentation.softwareag.com/webmethods/mywebmethods_server/mws10-11/10-11_MWSw/my-webmethods-server-webhelp/co-container_cluster_config.html#',\n",
       " 'https://documentation.softwareag.com/webmethods/mywebmethods_server/mws10-11/10-11_MWSw/my-webmethods-server-webhelp/to-container_cluster_samples_2.html#',\n",
       " 'https://documentation.softwareag.com/webmethods/mywebmethods_server/mws10-11/10-11_MWSw/my-webmethods-server-webhelp/re-mws_cli_reference_syntax.html#',\n",
       " 'https://documentation.softwareag.com/webmethods/mywebmethods_server/mws10-11/10-11_MWSw/my-webmethods-server-webhelp/re-mws_cli_reference_instance_administration_2.html#',\n",
       " 'https://documentation.softwareag.com/webmethods/mywebmethods_server/mws10-11/10-11_MWSw/my-webmethods-server-webhelp/re-mws_cli_reference_instance_operation_2.html#',\n",
       " 'https://documentation.softwareag.com/webmethods/mywebmethods_server/mws10-11/10-11_MWSw/my-webmethods-server-webhelp/re-mws_cli_reference_instance_configuration_2.html#',\n",
       " 'https://documentation.softwareag.com/webmethods/mywebmethods_server/mws10-11/10-11_MWSw/my-webmethods-server-webhelp/re-mws_cli_reference_service_operations_2.html#',\n",
       " 'https://documentation.softwareag.com/webmethods/mywebmethods_server/mws10-11/10-11_MWSw/my-webmethods-server-webhelp/re-mws_cli_reference_osgi_2.html#',\n",
       " 'https://documentation.softwareag.com/webmethods/mywebmethods_server/mws10-11/10-11_MWSw/my-webmethods-server-webhelp/co-the_java_service_wrapper.html#',\n",
       " 'https://documentation.softwareag.com/webmethods/mywebmethods_server/mws10-11/10-11_MWSw/my-webmethods-server-webhelp/co-the_java_service_wrapper_configuration_files.html#',\n",
       " 'https://documentation.softwareag.com/webmethods/mywebmethods_server/mws10-11/10-11_MWSw/my-webmethods-server-webhelp/re-the_jvm_configuration_properties.html#',\n",
       " 'https://documentation.softwareag.com/webmethods/mywebmethods_server/mws10-11/10-11_MWSw/my-webmethods-server-webhelp/re-the_logging_properties.html#',\n",
       " 'https://documentation.softwareag.com/webmethods/mywebmethods_server/mws10-11/10-11_MWSw/my-webmethods-server-webhelp/re-console_filtering_properties.html#',\n",
       " 'https://documentation.softwareag.com/webmethods/mywebmethods_server/mws10-11/10-11_MWSw/my-webmethods-server-webhelp/co-configuring_my_webmethods_server_settings.html#',\n",
       " 'https://documentation.softwareag.com/webmethods/mywebmethods_server/mws10-11/10-11_MWSw/my-webmethods-server-webhelp/re-configuring_axis_client.html#',\n",
       " 'https://documentation.softwareag.com/webmethods/mywebmethods_server/mws10-11/10-11_MWSw/my-webmethods-server-webhelp/re-configuration_files_stored_in_the_database.html#',\n",
       " 'https://documentation.softwareag.com/webmethods/mywebmethods_server/mws10-11/10-11_MWSw/my-webmethods-server-webhelp/ta-configuring_jetty_listeners_to_use_ip_addresses.html#',\n",
       " 'https://documentation.softwareag.com/webmethods/mywebmethods_server/mws10-11/10-11_MWSw/my-webmethods-server-webhelp/co-preventing_my_webmethods_server_from_listing_installed_fixes_at_startup.html#',\n",
       " 'https://documentation.softwareag.com/webmethods/mywebmethods_server/mws10-11/10-11_MWSw/my-webmethods-server-webhelp/to-managing_my_webmethods_configuration.html#',\n",
       " 'https://documentation.softwareag.com/webmethods/mywebmethods_server/mws10-11/10-11_MWSw/my-webmethods-server-webhelp/co-managing_directory_services.html#',\n",
       " 'https://documentation.softwareag.com/webmethods/mywebmethods_server/mws10-11/10-11_MWSw/my-webmethods-server-webhelp/co-setting_up_the_internal_system_directory_service.html#',\n",
       " 'https://documentation.softwareag.com/webmethods/mywebmethods_server/mws10-11/10-11_MWSw/my-webmethods-server-webhelp/ta-configuring_an_external_ldap_adsi_or_adam_directory_service.html#wwID0EA5RQ',\n",
       " 'https://documentation.softwareag.com/webmethods/mywebmethods_server/mws10-11/10-11_MWSw/my-webmethods-server-webhelp/re-external-dir-service-configuration-properties-ldap-adam-adsi.html#',\n",
       " 'https://documentation.softwareag.com/webmethods/mywebmethods_server/mws10-11/10-11_MWSw/my-webmethods-server-webhelp/ta-creating_a_role_to_define_externally_defined_users_you_want_to_access_my_webmethods.html#',\n",
       " 'https://documentation.softwareag.com/webmethods/mywebmethods_server/mws10-11/10-11_MWSw/my-webmethods-server-webhelp/ta-adding_a_microsoft_sql_server_data_source.html#',\n",
       " 'https://documentation.softwareag.com/webmethods/mywebmethods_server/mws10-11/10-11_MWSw/my-webmethods-server-webhelp/ta-searching_for_existing_users_groups_or_roles.html#',\n",
       " 'https://documentation.softwareag.com/webmethods/mywebmethods_server/mws10-11/10-11_MWSw/my-webmethods-server-webhelp/ta-creating_a_saved_search.html#',\n",
       " 'https://documentation.softwareag.com/webmethods/mywebmethods_server/mws10-11/10-11_MWSw/my-webmethods-server-webhelp/co-about_managing_users_and_groups.html#',\n",
       " 'https://documentation.softwareag.com/webmethods/mywebmethods_server/mws10-11/10-11_MWSw/my-webmethods-server-webhelp/co-users.html#',\n",
       " 'https://documentation.softwareag.com/webmethods/mywebmethods_server/mws10-11/10-11_MWSw/my-webmethods-server-webhelp/ta-adding_users.html#wwID0EQQBR',\n",
       " 'https://documentation.softwareag.com/webmethods/mywebmethods_server/mws10-11/10-11_MWSw/my-webmethods-server-webhelp/ta-exporting_user_data_2.html#',\n",
       " 'https://documentation.softwareag.com/webmethods/mywebmethods_server/mws10-11/10-11_MWSw/my-webmethods-server-webhelp/ta-deleting_a_user_2.html#',\n",
       " 'https://documentation.softwareag.com/webmethods/mywebmethods_server/mws10-11/10-11_MWSw/my-webmethods-server-webhelp/ta-configuring_gdpr.html#',\n",
       " 'https://documentation.softwareag.com/webmethods/mywebmethods_server/mws10-11/10-11_MWSw/my-webmethods-server-webhelp/ta-adding_groups.html#wwID0EKWGR',\n",
       " 'https://documentation.softwareag.com/webmethods/mywebmethods_server/mws10-11/10-11_MWSw/my-webmethods-server-webhelp/re-group_information.html#',\n",
       " 'https://documentation.softwareag.com/webmethods/mywebmethods_server/mws10-11/10-11_MWSw/my-webmethods-server-webhelp/co-managing_permissions_in_my_webmethods.html#',\n",
       " 'https://documentation.softwareag.com/webmethods/mywebmethods_server/mws10-11/10-11_MWSw/my-webmethods-server-webhelp/ta-adding_permissions.html#',\n",
       " 'https://documentation.softwareag.com/webmethods/mywebmethods_server/mws10-11/10-11_MWSw/my-webmethods-server-webhelp/ta-viewing_and_changing_the_owner_of_a_server_resource.html#',\n",
       " 'https://documentation.softwareag.com/webmethods/mywebmethods_server/mws10-11/10-11_MWSw/my-webmethods-server-webhelp/ta-creating_a_container.html#',\n",
       " 'https://documentation.softwareag.com/webmethods/mywebmethods_server/mws10-11/10-11_MWSw/my-webmethods-server-webhelp/co-about_roles_in_mws.html#',\n",
       " 'https://documentation.softwareag.com/webmethods/mywebmethods_server/mws10-11/10-11_MWSw/my-webmethods-server-webhelp/co-users_defined_in_the_internal_system_directory_service.html#',\n",
       " 'https://documentation.softwareag.com/webmethods/mywebmethods_server/mws10-11/10-11_MWSw/my-webmethods-server-webhelp/ta-adding_a_static_role.html#',\n",
       " 'https://documentation.softwareag.com/webmethods/mywebmethods_server/mws10-11/10-11_MWSw/my-webmethods-server-webhelp/ta-setting_user-specific_values_for_dynamic_attributes.html#',\n",
       " 'https://documentation.softwareag.com/webmethods/mywebmethods_server/mws10-11/10-11_MWSw/my-webmethods-server-webhelp/co-how_a_my_webmethods_server_cluster_works.html#',\n",
       " 'https://documentation.softwareag.com/webmethods/mywebmethods_server/mws10-11/10-11_MWSw/my-webmethods-server-webhelp/co-the_front_end_url.html#',\n",
       " 'https://documentation.softwareag.com/webmethods/mywebmethods_server/mws10-11/10-11_MWSw/my-webmethods-server-webhelp/ta-setting_the_front_end_url.html#',\n",
       " 'https://documentation.softwareag.com/webmethods/mywebmethods_server/mws10-11/10-11_MWSw/my-webmethods-server-webhelp/ta-configure-um-ssl.html#',\n",
       " 'https://documentation.softwareag.com/webmethods/mywebmethods_server/mws10-11/10-11_MWSw/my-webmethods-server-webhelp/co-db_jms_considerations.html#',\n",
       " 'https://documentation.softwareag.com/webmethods/mywebmethods_server/mws10-11/10-11_MWSw/my-webmethods-server-webhelp/ta-checking_status_information_about_a_cluster.html#',\n",
       " 'https://documentation.softwareag.com/webmethods/mywebmethods_server/mws10-11/10-11_MWSw/my-webmethods-server-webhelp/ta-editing_the_cluster.xml_file.html#',\n",
       " 'https://documentation.softwareag.com/webmethods/mywebmethods_server/mws10-11/10-11_MWSw/my-webmethods-server-webhelp/co-creating_and_modifying_partitions.html#',\n",
       " 'https://documentation.softwareag.com/webmethods/mywebmethods_server/mws10-11/10-11_MWSw/my-webmethods-server-webhelp/co-the_cluster_partition_file.html#',\n",
       " 'https://documentation.softwareag.com/webmethods/mywebmethods_server/mws10-11/10-11_MWSw/my-webmethods-server-webhelp/re-the_nodes_tab_of_the_partition_page.html#',\n",
       " 'https://documentation.softwareag.com/webmethods/mywebmethods_server/mws10-11/10-11_MWSw/my-webmethods-server-webhelp/to-attribute_providers.html#',\n",
       " 'https://documentation.softwareag.com/webmethods/mywebmethods_server/mws10-11/10-11_MWSw/my-webmethods-server-webhelp/co-what_are_attribute_providers.html#',\n",
       " 'https://documentation.softwareag.com/webmethods/mywebmethods_server/mws10-11/10-11_MWSw/my-webmethods-server-webhelp/co-the_core_attributes_attribute_provider.html#',\n",
       " 'https://documentation.softwareag.com/webmethods/mywebmethods_server/mws10-11/10-11_MWSw/my-webmethods-server-webhelp/co-user_information_panel.html#',\n",
       " 'https://documentation.softwareag.com/webmethods/mywebmethods_server/mws10-11/10-11_MWSw/my-webmethods-server-webhelp/co-displaying_the_ldap_attribute_provider.html#',\n",
       " 'https://documentation.softwareag.com/webmethods/mywebmethods_server/mws10-11/10-11_MWSw/my-webmethods-server-webhelp/co-displaying_the_database_attribute_provider.html#',\n",
       " 'https://documentation.softwareag.com/webmethods/mywebmethods_server/mws10-11/10-11_MWSw/my-webmethods-server-webhelp/ta-adding_a_principal_attribute_provider.html#',\n",
       " 'https://documentation.softwareag.com/webmethods/mywebmethods_server/mws10-11/10-11_MWSw/my-webmethods-server-webhelp/co-about_my_webmethods_server_security.html#',\n",
       " 'https://documentation.softwareag.com/webmethods/mywebmethods_server/mws10-11/10-11_MWSw/my-webmethods-server-webhelp/co-server_authentication.html#',\n",
       " 'https://documentation.softwareag.com/webmethods/mywebmethods_server/mws10-11/10-11_MWSw/my-webmethods-server-webhelp/co-forms_authentication.html#',\n",
       " 'https://documentation.softwareag.com/webmethods/mywebmethods_server/mws10-11/10-11_MWSw/my-webmethods-server-webhelp/co-controlling_permissions_on_server_resources.html#',\n",
       " 'https://documentation.softwareag.com/webmethods/mywebmethods_server/mws10-11/10-11_MWSw/my-webmethods-server-webhelp/ta-specifying_a_default_authentication_scheme.html#',\n",
       " 'https://documentation.softwareag.com/webmethods/mywebmethods_server/mws10-11/10-11_MWSw/my-webmethods-server-webhelp/ta-configuring_windows_server_and_active_directory_for_kerberos_authentication.html#',\n",
       " 'https://documentation.softwareag.com/webmethods/mywebmethods_server/mws10-11/10-11_MWSw/my-webmethods-server-webhelp/ta-configure_internet_explorer_to_support_kerberos_authentication.html#wwID0EMSPS',\n",
       " 'https://documentation.softwareag.com/webmethods/mywebmethods_server/mws10-11/10-11_MWSw/my-webmethods-server-webhelp/ta-disabling_ntlm_authentication.html#',\n",
       " 'https://documentation.softwareag.com/webmethods/mywebmethods_server/mws10-11/10-11_MWSw/my-webmethods-server-webhelp/ta-disabling_ntlmv2_authentication.html#',\n",
       " 'https://documentation.softwareag.com/webmethods/mywebmethods_server/mws10-11/10-11_MWSw/my-webmethods-server-webhelp/ta-enabling_authentication.html#',\n",
       " 'https://documentation.softwareag.com/webmethods/mywebmethods_server/mws10-11/10-11_MWSw/my-webmethods-server-webhelp/ta-setting_login_logging_thresholds.html#',\n",
       " 'https://documentation.softwareag.com/webmethods/mywebmethods_server/mws10-11/10-11_MWSw/my-webmethods-server-webhelp/ta-configuring_a_server_as_a_target_for_single_sign-on.html#',\n",
       " 'https://documentation.softwareag.com/webmethods/mywebmethods_server/mws10-11/10-11_MWSw/my-webmethods-server-webhelp/ta-verifying_idp_(mircrosoft_adfs)_initiated_single_sign-on.html#',\n",
       " 'https://documentation.softwareag.com/webmethods/mywebmethods_server/mws10-11/10-11_MWSw/my-webmethods-server-webhelp/co-configuring_an_authentication_flow_over_oauth_2.0_and_openid_connect.html#',\n",
       " 'https://documentation.softwareag.com/webmethods/mywebmethods_server/mws10-11/10-11_MWSw/my-webmethods-server-webhelp/ta-deploying_the_lockdown_portlet.html#',\n",
       " 'https://documentation.softwareag.com/webmethods/mywebmethods_server/mws10-11/10-11_MWSw/my-webmethods-server-webhelp/ta-customizing_password_complexity.html#',\n",
       " 'https://documentation.softwareag.com/webmethods/mywebmethods_server/mws10-11/10-11_MWSw/my-webmethods-server-webhelp/ta-viewing_response_header_rules.html#',\n",
       " 'https://documentation.softwareag.com/webmethods/mywebmethods_server/mws10-11/10-11_MWSw/my-webmethods-server-webhelp/co-about_analysis_reporting_and_troubleshooting.html#',\n",
       " 'https://documentation.softwareag.com/webmethods/mywebmethods_server/mws10-11/10-11_MWSw/my-webmethods-server-webhelp/co-about_logging_thresholds.html#',\n",
       " 'https://documentation.softwareag.com/webmethods/mywebmethods_server/mws10-11/10-11_MWSw/my-webmethods-server-webhelp/co-temporarily_setting_debug_thresholds.html#',\n",
       " 'https://documentation.softwareag.com/webmethods/mywebmethods_server/mws10-11/10-11_MWSw/my-webmethods-server-webhelp/ta-deploying_the_events_collector_page.html#',\n",
       " 'https://documentation.softwareag.com/webmethods/mywebmethods_server/mws10-11/10-11_MWSw/my-webmethods-server-webhelp/co-about_my_webmethods_server_configuration.html#',\n",
       " 'https://documentation.softwareag.com/webmethods/mywebmethods_server/mws10-11/10-11_MWSw/my-webmethods-server-webhelp/ta-creating_an_alias_to_a_server_resource_on_the_properties_page.html#',\n",
       " 'https://documentation.softwareag.com/webmethods/mywebmethods_server/mws10-11/10-11_MWSw/my-webmethods-server-webhelp/ta-performing_a_simple_alias_search.html#',\n",
       " 'https://documentation.softwareag.com/webmethods/mywebmethods_server/mws10-11/10-11_MWSw/my-webmethods-server-webhelp/ta-modifying_the_polling_interval.html#',\n",
       " 'https://documentation.softwareag.com/webmethods/mywebmethods_server/mws10-11/10-11_MWSw/my-webmethods-server-webhelp/re-cache_types_attributes.html#',\n",
       " 'https://documentation.softwareag.com/webmethods/mywebmethods_server/mws10-11/10-11_MWSw/my-webmethods-server-webhelp/re-panels_of_the_system_information_page.html#',\n",
       " 'https://documentation.softwareag.com/webmethods/mywebmethods_server/mws10-11/10-11_MWSw/my-webmethods-server-webhelp/co-migrating_my_webmethods_server_content.html#',\n",
       " 'https://documentation.softwareag.com/webmethods/mywebmethods_server/mws10-11/10-11_MWSw/my-webmethods-server-webhelp/co-content_migration_considerations.html#',\n",
       " 'https://documentation.softwareag.com/webmethods/mywebmethods_server/mws10-11/10-11_MWSw/my-webmethods-server-webhelp/co-content_services.html#',\n",
       " 'https://documentation.softwareag.com/webmethods/mywebmethods_server/mws10-11/10-11_MWSw/my-webmethods-server-webhelp/ta-locale_administration.html#',\n",
       " 'https://documentation.softwareag.com/webmethods/mywebmethods_server/mws10-11/10-11_MWSw/my-webmethods-server-webhelp/ta-changing_the_order_or_rule_evaluation.html#',\n",
       " 'https://documentation.softwareag.com/webmethods/mywebmethods_server/mws10-11/10-11_MWSw/my-webmethods-server-webhelp/ta-creating_skin_rules.html#',\n",
       " 'https://documentation.softwareag.com/webmethods/mywebmethods_server/mws10-11/10-11_MWSw/my-webmethods-server-webhelp/ta-creating_shell_rules.html#',\n",
       " 'https://documentation.softwareag.com/webmethods/mywebmethods_server/mws10-11/10-11_MWSw/my-webmethods-server-webhelp/co-managing_user_information_with_the_common_directory_service_api.html#',\n",
       " 'https://documentation.softwareag.com/webmethods/mywebmethods_server/mws10-11/10-11_MWSw/my-webmethods-server-webhelp/co-class_path_considerations.html#',\n",
       " 'https://documentation.softwareag.com/webmethods/mywebmethods_server/mws10-11/10-11_MWSw/my-webmethods-server-webhelp/ta-enable_version_interop_cds.html#',\n",
       " 'https://documentation.softwareag.com/webmethods/mywebmethods_server/mws10-11/10-11_MWSw/my-webmethods-server-webhelp/co-cds_code_examples.html#wwID0E1BYT',\n",
       " 'https://documentation.softwareag.com/webmethods/mywebmethods_server/mws10-11/10-11_MWSw/my-webmethods-server-webhelp/co-push_noifications_mobile_bc.html#',\n",
       " 'https://documentation.softwareag.com/webmethods/mywebmethods_server/mws10-11/10-11_MWSw/my-webmethods-server-webhelp/to-managing_pages_in_my_webmethods_server.html#',\n",
       " 'https://documentation.softwareag.com/webmethods/mywebmethods_server/mws10-11/10-11_MWSw/my-webmethods-server-webhelp/co-about_page_development.html#',\n",
       " 'https://documentation.softwareag.com/webmethods/mywebmethods_server/mws10-11/10-11_MWSw/my-webmethods-server-webhelp/ta-creating_custom_pages.html#',\n",
       " 'https://documentation.softwareag.com/webmethods/mywebmethods_server/mws10-11/10-11_MWSw/my-webmethods-server-webhelp/ta-setting_page_properties.html#',\n",
       " 'https://documentation.softwareag.com/webmethods/mywebmethods_server/mws10-11/10-11_MWSw/my-webmethods-server-webhelp/ta-adding_selections_to_the_my_webmethods_navigation.html#',\n",
       " 'https://documentation.softwareag.com/webmethods/mywebmethods_server/mws10-11/10-11_MWSw/my-webmethods-server-webhelp/ta-replacing_the_logo_in_the_my_webmethods_user_interface.html#',\n",
       " 'https://documentation.softwareag.com/webmethods/mywebmethods_server/mws10-11/10-11_MWSw/my-webmethods-server-webhelp/co-about_workspaces_2.html#',\n",
       " 'https://documentation.softwareag.com/webmethods/mywebmethods_server/mws10-11/10-11_MWSw/my-webmethods-server-webhelp/ta-allowing_users_to_access_the_workspace_management_page.html#',\n",
       " 'https://documentation.softwareag.com/webmethods/mywebmethods_server/mws10-11/10-11_MWSw/my-webmethods-server-webhelp/re-workspace_properties_for_expert_users.html#',\n",
       " 'https://documentation.softwareag.com/webmethods/mywebmethods_server/mws10-11/10-11_MWSw/my-webmethods-server-webhelp/ta-performing_a_keyword_search_for_workspaces.html#',\n",
       " 'https://documentation.softwareag.com/webmethods/mywebmethods_server/mws10-11/10-11_MWSw/my-webmethods-server-webhelp/re-workspace_tools_available_by_default.html#',\n",
       " 'https://documentation.softwareag.com/webmethods/mywebmethods_server/mws10-11/10-11_MWSw/my-webmethods-server-webhelp/co-what_are_skins.html#',\n",
       " 'https://documentation.softwareag.com/webmethods/mywebmethods_server/mws10-11/10-11_MWSw/my-webmethods-server-webhelp/co-how_skins_use_inheritance.html#',\n",
       " 'https://documentation.softwareag.com/webmethods/mywebmethods_server/mws10-11/10-11_MWSw/my-webmethods-server-webhelp/ta-exporting_a_skin.html#',\n",
       " 'https://documentation.softwareag.com/webmethods/mywebmethods_server/mws10-11/10-11_MWSw/my-webmethods-server-webhelp/ta-deleting_a_skin.html#',\n",
       " 'https://documentation.softwareag.com/webmethods/mywebmethods_server/mws10-11/10-11_MWSw/my-webmethods-server-webhelp/co-skin_properties_file.html#',\n",
       " 'https://documentation.softwareag.com/webmethods/mywebmethods_server/mws10-11/10-11_MWSw/my-webmethods-server-webhelp/co-value_of_skin_properties_file.html#',\n",
       " 'https://documentation.softwareag.com/webmethods/mywebmethods_server/mws10-11/10-11_MWSw/my-webmethods-server-webhelp/co-how_csi_files_work.html#',\n",
       " 'https://documentation.softwareag.com/webmethods/mywebmethods_server/mws10-11/10-11_MWSw/my-webmethods-server-webhelp/co-what_are_shells.html#',\n",
       " 'https://documentation.softwareag.com/webmethods/mywebmethods_server/mws10-11/10-11_MWSw/my-webmethods-server-webhelp/to-administering_my_webmethods_server.html#',\n",
       " 'https://documentation.softwareag.com/webmethods/mywebmethods_server/mws10-11/10-11_MWSw/my-webmethods-server-webhelp/ta-administering_mws_instances.html#',\n",
       " 'https://documentation.softwareag.com/webmethods/mywebmethods_server/mws10-11/10-11_MWSw/my-webmethods-server-webhelp/ta-administering_mws_instances.html#wwID0EPR3U',\n",
       " 'https://documentation.softwareag.com/webmethods/mywebmethods_server/mws10-11/10-11_MWSw/my-webmethods-server-webhelp/cce.mws.port.configuration.html#wwID0EIE5U',\n",
       " 'https://documentation.softwareag.com/webmethods/mywebmethods_server/mws10-11/10-11_MWSw/my-webmethods-server-webhelp/re-external-dir-service-configuration-properties-ldap-adam-adsi_2.html#',\n",
       " 'https://documentation.softwareag.com/webmethods/mywebmethods_server/mws10-11/10-11_MWSw/my-webmethods-server-webhelp/cce.mws.variables.considerations.html#wwID0EJVBV',\n",
       " 'https://documentation.softwareag.com/webmethods/mywebmethods_server/mws10-11/10-11_MWSw/my-webmethods-server-webhelp/mws_cli_supported_commands.html#',\n",
       " 'https://documentation.softwareag.com/webmethods/mywebmethods_server/mws10-11/10-11_MWSw/my-webmethods-server-webhelp/re-creating_a_my_webmethods_server_instance.html#wwID0EEHFV',\n",
       " 'https://documentation.softwareag.com/webmethods/mywebmethods_server/mws10-11/10-11_MWSw/my-webmethods-server-webhelp/cc.authentication.mode.html#',\n",
       " 'https://documentation.softwareag.com/webmethods/mywebmethods_server/mws10-11/10-11_MWSw/my-webmethods-server-webhelp/to-about_this_guide_3.html#',\n",
       " 'https://documentation.softwareag.com/webmethods/mywebmethods_server/mws10-11/10-11_MWSw/my-webmethods-server-webhelp/to-about_command_line_tools_2.html#',\n",
       " 'https://documentation.softwareag.com/webmethods/mywebmethods_server/mws10-11/10-11_MWSw/my-webmethods-server-webhelp/to-about_command_line_tools_5.html#',\n",
       " 'https://documentation.softwareag.com/webmethods/mywebmethods_server/mws10-11/10-11_MWSw/my-webmethods-server-webhelp/co-command-linetools-overview.html#',\n",
       " 'https://documentation.softwareag.com/webmethods/mywebmethods_server/mws10-11/10-11_MWSw/my-webmethods-server-webhelp/co-mws-java-artifact-mapping_2.html#',\n",
       " 'https://documentation.softwareag.com/webmethods/mywebmethods_server/mws10-11/10-11_MWSw/my-webmethods-server-webhelp/to-external-command-line-tools_2.html#',\n",
       " 'https://documentation.softwareag.com/webmethods/mywebmethods_server/mws10-11/10-11_MWSw/my-webmethods-server-webhelp/to-mws_diagnostic_portlets_2.html#',\n",
       " 'https://documentation.softwareag.com/webmethods/mywebmethods_server/mws10-11/10-11_MWSw/my-webmethods-server-webhelp/to-mws_diagnostic_portlets_3.html#',\n",
       " 'https://documentation.softwareag.com/webmethods/mywebmethods_server/mws10-11/10-11_MWSw/my-webmethods-server-webhelp/to-mws_diagnostic_portlets_7.html#',\n",
       " 'https://documentation.softwareag.com/webmethods/mywebmethods_server/mws10-11/10-11_MWSw/my-webmethods-server-webhelp/to-mws_diagnostic_portlets_14.html#',\n",
       " 'https://documentation.softwareag.com/webmethods/mywebmethods_server/mws10-11/10-11_MWSw/my-webmethods-server-webhelp/to-mws_diagnostic_portlets_21.html#',\n",
       " 'https://documentation.softwareag.com/webmethods/mywebmethods_server/mws10-11/10-11_MWSw/my-webmethods-server-webhelp/to-mws_diagnostic_portlets_25.html#',\n",
       " 'https://documentation.softwareag.com/webmethods/mywebmethods_server/mws10-11/10-11_MWSw/my-webmethods-server-webhelp/to-mws_diagnostic_portlets_27.html#',\n",
       " 'https://documentation.softwareag.com/webmethods/mywebmethods_server/mws10-11/10-11_MWSw/my-webmethods-server-webhelp/to-mws_diagnostic_troubleshoot_2.html#',\n",
       " 'https://documentation.softwareag.com/webmethods/mywebmethods_server/mws10-11/10-11_MWSw/my-webmethods-server-webhelp/re-jmx_mbeans_2.html#',\n",
       " 'https://documentation.softwareag.com/webmethods/mywebmethods_server/mws10-11/10-11_MWSw/my-webmethods-server-webhelp/to-about_this_guide_4.html#',\n",
       " 'https://documentation.softwareag.com/webmethods/mywebmethods_server/mws10-11/10-11_MWSw/my-webmethods-server-webhelp/to-admin_and_config_2.html#',\n",
       " 'https://documentation.softwareag.com/webmethods/mywebmethods_server/mws10-11/10-11_MWSw/my-webmethods-server-webhelp/to-security_2.html#',\n",
       " 'https://documentation.softwareag.com/webmethods/mywebmethods_server/mws10-11/10-11_MWSw/my-webmethods-server-webhelp/to-page_and_portlet_dev_2.html#',\n",
       " 'https://documentation.softwareag.com/webmethods/mywebmethods_server/mws10-11/10-11_MWSw/my-webmethods-server-webhelp/to-dbo_2.html#',\n",
       " 'https://documentation.softwareag.com/webmethods/mywebmethods_server/mws10-11/10-11_MWSw/my-webmethods-server-webhelp/to-item_editing_tools_2.html#',\n",
       " 'https://documentation.softwareag.com/webmethods/mywebmethods_server/mws10-11/10-11_MWSw/my-webmethods-server-webhelp/to-dev_tools_2.html#',\n",
       " 'https://documentation.softwareag.com/webmethods/mywebmethods_server/mws10-11/10-11_MWSw/my-webmethods-server-webhelp/to-legacy_portlets_2.html#',\n",
       " 'https://documentation.softwareag.com/webmethods/mywebmethods_server/mws10-11/10-11_MWSw/my-webmethods-server-webhelp/to-system_2.html#']"
      ]
     },
     "execution_count": 9,
     "metadata": {},
     "output_type": "execute_result"
    }
   ],
   "source": [
    "links"
   ]
  },
  {
   "cell_type": "code",
   "execution_count": 10,
   "metadata": {},
   "outputs": [
    {
     "name": "stderr",
     "output_type": "stream",
     "text": [
      " 26%|██▌       | 53/203 [01:03<02:24,  1.03it/s]Token indices sequence length is longer than the specified maximum sequence length for this model (575 > 512). Running this sequence through the model will result in indexing errors\n",
      " 33%|███▎      | 68/203 [01:18<01:44,  1.29it/s]"
     ]
    },
    {
     "name": "stdout",
     "output_type": "stream",
     "text": [
      "Message: no such element: Unable to locate element: {\"method\":\"css selector\",\"selector\":\"[id=\"wwconnect_header\"]\"}\n",
      "  (Session info: chrome=106.0.5249.103)\n",
      "\n",
      "https://documentation.softwareag.com/webmethods/mywebmethods_server/mws10-11/10-11_MWSw/my-webmethods-server-webhelp/re-configuration_files_stored_in_the_database.html#\n"
     ]
    },
    {
     "name": "stderr",
     "output_type": "stream",
     "text": [
      " 88%|████████▊ | 178/203 [03:29<00:46,  1.85s/it]"
     ]
    },
    {
     "name": "stdout",
     "output_type": "stream",
     "text": [
      "Message: no such element: Unable to locate element: {\"method\":\"css selector\",\"selector\":\"[id=\"wwconnect_header\"]\"}\n",
      "  (Session info: chrome=106.0.5249.103)\n",
      "\n",
      "https://documentation.softwareag.com/webmethods/mywebmethods_server/mws10-11/10-11_MWSw/my-webmethods-server-webhelp/re-creating_a_my_webmethods_server_instance.html#wwID0EEHFV\n"
     ]
    },
    {
     "name": "stderr",
     "output_type": "stream",
     "text": [
      "100%|██████████| 203/203 [04:08<00:00,  1.23s/it]\n"
     ]
    }
   ],
   "source": [
    "dataJson = {}\n",
    "exceptionLinks = list()\n",
    "tqdmLinks = tqdm(links)\n",
    "for link in tqdmLinks:\n",
    "    try:\n",
    "        driver.get(link)\n",
    "        driver.switch_to.frame(0)\n",
    "        title = driver.find_element(By.ID, \"wwconnect_header\").text\n",
    "        if title not in dataJson:\n",
    "            dataJson[title] = {}\n",
    "        driver.execute_script(\"\"\"\n",
    "            var l = document.getElementById(\"wwconnect_header\");\n",
    "            l.parentNode.removeChild(l);\n",
    "            \"\"\")\n",
    "        divs = driver.find_elements(By.TAG_NAME, \"div\")\n",
    "        dataJson[title]['data'] = []\n",
    "        for div in divs[:-1]:\n",
    "            if div.text != '':\n",
    "                doc = nlp(div.text)\n",
    "                for sent in doc.sents:\n",
    "                    dataJson[title]['data'].append(sent.text)\n",
    "        dataJson[title]['href'] = link\n",
    "    except Exception as e:\n",
    "        print(e)\n",
    "        print(link)\n",
    "        exceptionLinks.append(link)\n",
    "        # break"
   ]
  },
  {
   "cell_type": "code",
   "execution_count": 11,
   "metadata": {},
   "outputs": [],
   "source": [
    "\n",
    "with open(\"data.json\", \"a\") as f:\n",
    "    json.dump(dataJson, f)\n",
    "with open(\"exceptionLinks.json\", \"a\") as f:\n",
    "    json.dump(exceptionLinks, f)"
   ]
  },
  {
   "cell_type": "code",
   "execution_count": 12,
   "metadata": {},
   "outputs": [
    {
     "data": {
      "text/plain": [
       "200"
      ]
     },
     "execution_count": 12,
     "metadata": {},
     "output_type": "execute_result"
    }
   ],
   "source": [
    "len(dataJson)"
   ]
  },
  {
   "cell_type": "code",
   "execution_count": 20,
   "metadata": {},
   "outputs": [
    {
     "data": {
      "text/plain": [
       "[]"
      ]
     },
     "execution_count": 20,
     "metadata": {},
     "output_type": "execute_result"
    }
   ],
   "source": [
    "exceptionLinks"
   ]
  },
  {
   "cell_type": "code",
   "execution_count": 21,
   "metadata": {},
   "outputs": [
    {
     "data": {
      "text/plain": [
       "208"
      ]
     },
     "execution_count": 21,
     "metadata": {},
     "output_type": "execute_result"
    }
   ],
   "source": [
    "len(links)"
   ]
  },
  {
   "cell_type": "code",
   "execution_count": 33,
   "metadata": {},
   "outputs": [
    {
     "data": {
      "text/plain": [
       "''"
      ]
     },
     "execution_count": 33,
     "metadata": {},
     "output_type": "execute_result"
    }
   ],
   "source": [
    "driver.switch_to.parent_frame()\n",
    "driver.find_element(By.TAG_NAME, 'title').text"
   ]
  },
  {
   "cell_type": "code",
   "execution_count": 38,
   "metadata": {},
   "outputs": [
    {
     "name": "stdout",
     "output_type": "stream",
     "text": [
      "API Gateway Cluster Configuration\n"
     ]
    }
   ],
   "source": [
    "print(driver.execute_script(\"return document.title\"))"
   ]
  },
  {
   "cell_type": "code",
   "execution_count": 2,
   "metadata": {},
   "outputs": [],
   "source": [
    "dataJson = json.load(open(\"data.json\", \"r\"))"
   ]
  },
  {
   "cell_type": "code",
   "execution_count": 3,
   "metadata": {},
   "outputs": [],
   "source": [
    "for key in dataJson:\n",
    "    dataJson[key]['data'].append(key)"
   ]
  },
  {
   "cell_type": "code",
   "execution_count": 5,
   "metadata": {},
   "outputs": [],
   "source": [
    "json.dump(dataJson, open(\"data.json\", \"w\"))"
   ]
  },
  {
   "cell_type": "code",
   "execution_count": null,
   "metadata": {},
   "outputs": [],
   "source": []
  }
 ],
 "metadata": {
  "kernelspec": {
   "display_name": "Python 3.10.4 ('semanticSearch')",
   "language": "python",
   "name": "python3"
  },
  "language_info": {
   "codemirror_mode": {
    "name": "ipython",
    "version": 3
   },
   "file_extension": ".py",
   "mimetype": "text/x-python",
   "name": "python",
   "nbconvert_exporter": "python",
   "pygments_lexer": "ipython3",
   "version": "3.10.6"
  },
  "orig_nbformat": 4,
  "vscode": {
   "interpreter": {
    "hash": "c161c69aab48cf802d290df2b4f24514a9465c3f61854d10f9fe85cb8b9b6e58"
   }
  }
 },
 "nbformat": 4,
 "nbformat_minor": 2
}
