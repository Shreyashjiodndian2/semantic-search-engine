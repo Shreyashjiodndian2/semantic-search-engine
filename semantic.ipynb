{
 "cells": [
  {
   "cell_type": "markdown",
   "metadata": {},
   "source": [
    "# Sentence Transformer"
   ]
  },
  {
   "cell_type": "code",
   "execution_count": 1,
   "metadata": {},
   "outputs": [],
   "source": [
    "from sentence_transformers import SentenceTransformer, util\n",
    "import torch\n",
    "import json"
   ]
  },
  {
   "cell_type": "code",
   "execution_count": 2,
   "metadata": {},
   "outputs": [
    {
     "data": {
      "text/plain": [
       "True"
      ]
     },
     "execution_count": 2,
     "metadata": {},
     "output_type": "execute_result"
    }
   ],
   "source": [
    "torch.cuda.is_available()"
   ]
  },
  {
   "cell_type": "code",
   "execution_count": 3,
   "metadata": {},
   "outputs": [],
   "source": [
    "embedder = SentenceTransformer('multi-qa-MiniLM-L6-cos-v1', device='cuda')\n"
   ]
  },
  {
   "cell_type": "code",
   "execution_count": 4,
   "metadata": {},
   "outputs": [],
   "source": [
    "data = json.load(open('data.json', 'r'))"
   ]
  },
  {
   "cell_type": "code",
   "execution_count": 5,
   "metadata": {},
   "outputs": [],
   "source": [
    "corpus = list()\n",
    "hrefList = list()\n",
    "for i in data:\n",
    "    corpus.extend(data[i]['data'])\n",
    "    hrefList.extend([data[i]['href']]*len(data[i]['data']))"
   ]
  },
  {
   "cell_type": "code",
   "execution_count": 6,
   "metadata": {},
   "outputs": [],
   "source": [
    "corpus_embeddings = embedder.encode(corpus, convert_to_tensor=True)"
   ]
  },
  {
   "cell_type": "code",
   "execution_count": 7,
   "metadata": {},
   "outputs": [],
   "source": [
    "top_k = min(5, len(corpus))"
   ]
  },
  {
   "cell_type": "code",
   "execution_count": 15,
   "metadata": {},
   "outputs": [],
   "source": [
    "query = \"Create a REST API\""
   ]
  },
  {
   "cell_type": "code",
   "execution_count": 16,
   "metadata": {},
   "outputs": [],
   "source": [
    "query_embedding = embedder.encode(query, convert_to_tensor=True)"
   ]
  },
  {
   "cell_type": "code",
   "execution_count": 17,
   "metadata": {},
   "outputs": [
    {
     "name": "stdout",
     "output_type": "stream",
     "text": [
      "Query: Create a REST API\n",
      "Top 5 most similar sentences in corpus:\n",
      "REST API (Score: 0.8741) | href:https://documentation.softwareag.com/webmethods/api_gateway/yai10-11/10-11_API_Gateway_webhelp/api-gateway-integrated-webhelp/ta-api_publish_single.html#\n",
      "Overview of Creating a REST API from Scratch (Score: 0.8539) | href:https://documentation.softwareag.com/webmethods/api_gateway/yai10-11/10-11_API_Gateway_webhelp/api-gateway-integrated-webhelp/co-overview_create_rest_api.html#\n",
      "REST API. (Score: 0.8218) | href:https://documentation.softwareag.com/webmethods/api_gateway/yai10-11/10-11_API_Gateway_webhelp/api-gateway-integrated-webhelp/ta-api_tagging.html#\n",
      "To create an API (Score: 0.8076) | href:https://documentation.softwareag.com/webmethods/api_gateway/yai10-11/10-11_API_Gateway_webhelp/api-gateway-integrated-webhelp/ta-qsg_create_api.html#\n",
      "How Do I Create an API? (Score: 0.7930) | href:https://documentation.softwareag.com/webmethods/api_gateway/yai10-11/10-11_API_Gateway_webhelp/api-gateway-integrated-webhelp/ta-qsg_create_api.html#\n"
     ]
    }
   ],
   "source": [
    "cos_scores = util.dot_score(query_embedding, corpus_embeddings)[0]\n",
    "top_results = torch.topk(cos_scores, k=top_k)\n",
    "print(\"Query:\", query)\n",
    "print(\"Top 5 most similar sentences in corpus:\")\n",
    "for score, idx in zip(top_results[0], top_results[1]):\n",
    "    print(corpus[idx], \"(Score: {:.4f}) | href:{}\".format(score, hrefList[idx]))"
   ]
  },
  {
   "cell_type": "code",
   "execution_count": 18,
   "metadata": {},
   "outputs": [
    {
     "data": {
      "text/plain": [
       "13855"
      ]
     },
     "execution_count": 18,
     "metadata": {},
     "output_type": "execute_result"
    }
   ],
   "source": [
    "len(hrefList)"
   ]
  },
  {
   "cell_type": "code",
   "execution_count": 19,
   "metadata": {},
   "outputs": [
    {
     "name": "stdout",
     "output_type": "stream",
     "text": [
      "REST API (Score: 0.8741) | href:https://documentation.softwareag.com/webmethods/api_gateway/yai10-11/10-11_API_Gateway_webhelp/api-gateway-integrated-webhelp/ta-api_publish_single.html#\n",
      "Overview of Creating a REST API from Scratch (Score: 0.8539) | href:https://documentation.softwareag.com/webmethods/api_gateway/yai10-11/10-11_API_Gateway_webhelp/api-gateway-integrated-webhelp/co-overview_create_rest_api.html#\n",
      "REST API. (Score: 0.8218) | href:https://documentation.softwareag.com/webmethods/api_gateway/yai10-11/10-11_API_Gateway_webhelp/api-gateway-integrated-webhelp/ta-api_tagging.html#\n",
      "To create an API (Score: 0.8076) | href:https://documentation.softwareag.com/webmethods/api_gateway/yai10-11/10-11_API_Gateway_webhelp/api-gateway-integrated-webhelp/ta-qsg_create_api.html#\n",
      "How Do I Create an API? (Score: 0.7930) | href:https://documentation.softwareag.com/webmethods/api_gateway/yai10-11/10-11_API_Gateway_webhelp/api-gateway-integrated-webhelp/ta-qsg_create_api.html#\n",
      "REST API Details (Score: 0.7285) | href:https://documentation.softwareag.com/webmethods/api_gateway/yai10-11/10-11_API_Gateway_webhelp/api-gateway-integrated-webhelp/re-api_details_rest.html#\n",
      "For details about creating an API, see Creating a REST API. (Score: 0.7077) | href:https://documentation.softwareag.com/webmethods/api_gateway/yai10-11/10-11_API_Gateway_webhelp/api-gateway-integrated-webhelp/ta-config_oauth_refresh_token.html#\n",
      "1. Create an API. (Score: 0.6729) | href:https://documentation.softwareag.com/webmethods/api_gateway/yai10-11/10-11_API_Gateway_webhelp/api-gateway-integrated-webhelp/ta-config_oauth_refresh_token.html#\n",
      "Note:\n",
      "To invoke the REST API, you must provide the basic authentication. (Score: 0.6453) | href:https://documentation.softwareag.com/webmethods/api_gateway/yai10-11/10-11_API_Gateway_webhelp/api-gateway-integrated-webhelp/ta-health_check.html#\n",
      "The Create REST API wizard breaks down the task of creating a REST API from scratch into logical steps. (Score: 0.6447) | href:https://documentation.softwareag.com/webmethods/api_gateway/yai10-11/10-11_API_Gateway_webhelp/api-gateway-integrated-webhelp/co-overview_create_rest_api.html#\n"
     ]
    }
   ],
   "source": [
    "semanticSearchResult = util.semantic_search(\n",
    "    query_embedding, corpus_embeddings)\n",
    "for i in semanticSearchResult[0]:\n",
    "    # print(i)\n",
    "    print(corpus[i['corpus_id']],\n",
    "          \"(Score: {:.4f}) | href:{}\".format(i['score'], hrefList[i['corpus_id']]))\n"
   ]
  },
  {
   "cell_type": "code",
   "execution_count": 20,
   "metadata": {},
   "outputs": [
    {
     "data": {
      "text/plain": [
       "'REST API'"
      ]
     },
     "execution_count": 20,
     "metadata": {},
     "output_type": "execute_result"
    }
   ],
   "source": [
    "corpus[semanticSearchResult[0][0]['corpus_id']]"
   ]
  },
  {
   "cell_type": "markdown",
   "metadata": {},
   "source": [
    "# FAISS"
   ]
  },
  {
   "cell_type": "code",
   "execution_count": 1,
   "metadata": {},
   "outputs": [],
   "source": [
    "import faiss\n",
    "import numpy as np\n",
    "from sentence_transformers import SentenceTransformer, util\n",
    "import json\n",
    "import time"
   ]
  },
  {
   "cell_type": "code",
   "execution_count": 2,
   "metadata": {},
   "outputs": [],
   "source": [
    "data = json.load(open('data.json', 'r'))\n",
    "corpus = list()\n",
    "hrefList = list()\n",
    "for i in data:\n",
    "    corpus.extend(data[i]['data'])\n",
    "    hrefList.extend([data[i]['href']]*len(data[i]['data']))"
   ]
  },
  {
   "cell_type": "code",
   "execution_count": 3,
   "metadata": {},
   "outputs": [],
   "source": [
    "faissModel = SentenceTransformer('multi-qa-MiniLM-L6-cos-v1', device='cuda')\n",
    "faissEmbedding = faissModel.encode(corpus)"
   ]
  },
  {
   "cell_type": "code",
   "execution_count": 4,
   "metadata": {},
   "outputs": [
    {
     "ename": "AssertionError",
     "evalue": "",
     "output_type": "error",
     "traceback": [
      "\u001b[0;31m---------------------------------------------------------------------------\u001b[0m",
      "\u001b[0;31mAssertionError\u001b[0m                            Traceback (most recent call last)",
      "\u001b[1;32m/home/rootdaenib/VS_Code/softwareAG/semanticSearchEngine/dataExtraction/semantic.ipynb Cell 19\u001b[0m in \u001b[0;36m<cell line: 2>\u001b[0;34m()\u001b[0m\n\u001b[1;32m      <a href='vscode-notebook-cell:/home/rootdaenib/VS_Code/softwareAG/semanticSearchEngine/dataExtraction/semantic.ipynb#X24sZmlsZQ%3D%3D?line=0'>1</a>\u001b[0m index \u001b[39m=\u001b[39m faiss\u001b[39m.\u001b[39mIndexIDMap(faiss\u001b[39m.\u001b[39mIndexFlatIP(\u001b[39m768\u001b[39m))\n\u001b[0;32m----> <a href='vscode-notebook-cell:/home/rootdaenib/VS_Code/softwareAG/semanticSearchEngine/dataExtraction/semantic.ipynb#X24sZmlsZQ%3D%3D?line=1'>2</a>\u001b[0m index\u001b[39m.\u001b[39;49madd_with_ids(faissEmbedding, np\u001b[39m.\u001b[39;49marray(\u001b[39mrange\u001b[39;49m(\u001b[39m0\u001b[39;49m,\u001b[39mlen\u001b[39;49m(faissEmbedding))))\n",
      "File \u001b[0;32m~/anaconda3/envs/semanticSearch/lib/python3.10/site-packages/faiss/__init__.py:232\u001b[0m, in \u001b[0;36mhandle_Index.<locals>.replacement_add_with_ids\u001b[0;34m(self, x, ids)\u001b[0m\n\u001b[1;32m    218\u001b[0m \u001b[39m\"\"\"Adds vectors with arbitrary ids to the index (not all indexes support this).\u001b[39;00m\n\u001b[1;32m    219\u001b[0m \u001b[39mThe index must be trained before vectors can be added to it.\u001b[39;00m\n\u001b[1;32m    220\u001b[0m \u001b[39mVector `i` is stored in `x[i]` and has id `ids[i]`.\u001b[39;00m\n\u001b[0;32m   (...)\u001b[0m\n\u001b[1;32m    229\u001b[0m \u001b[39m    in result lists to mean \"not found\" so it's better to not use it as an id.\u001b[39;00m\n\u001b[1;32m    230\u001b[0m \u001b[39m\"\"\"\u001b[39;00m\n\u001b[1;32m    231\u001b[0m n, d \u001b[39m=\u001b[39m x\u001b[39m.\u001b[39mshape\n\u001b[0;32m--> 232\u001b[0m \u001b[39massert\u001b[39;00m d \u001b[39m==\u001b[39m \u001b[39mself\u001b[39m\u001b[39m.\u001b[39md\n\u001b[1;32m    234\u001b[0m \u001b[39massert\u001b[39;00m ids\u001b[39m.\u001b[39mshape \u001b[39m==\u001b[39m (n, ), \u001b[39m'\u001b[39m\u001b[39mnot same nb of vectors as ids\u001b[39m\u001b[39m'\u001b[39m\n\u001b[1;32m    235\u001b[0m \u001b[39mself\u001b[39m\u001b[39m.\u001b[39madd_with_ids_c(n, swig_ptr(x), swig_ptr(ids))\n",
      "\u001b[0;31mAssertionError\u001b[0m: "
     ]
    }
   ],
   "source": [
    "index = faiss.IndexIDMap(faiss.IndexFlatIP(768))\n",
    "index.add_with_ids(faissEmbedding, np.array(range(0,len(faissEmbedding))))"
   ]
  },
  {
   "cell_type": "code",
   "execution_count": null,
   "metadata": {},
   "outputs": [],
   "source": [
    "faiss.write_index(index, 'faiss.index')"
   ]
  },
  {
   "cell_type": "code",
   "execution_count": null,
   "metadata": {},
   "outputs": [],
   "source": [
    "def search(query):\n",
    "    t=time.time()\n",
    "    query_vector = faissModel.encode([query], show_progress_bar=True)\n",
    "    k = 5\n",
    "    top_k = index.search(query_vector, k)\n",
    "    print('totaltime: {}'.format(time.time()-t))\n",
    "    return [hrefList[_id] for _id in top_k[1].tolist()[0]]"
   ]
  },
  {
   "cell_type": "code",
   "execution_count": null,
   "metadata": {},
   "outputs": [
    {
     "data": {
      "application/vnd.jupyter.widget-view+json": {
       "model_id": "639f87dbb0a74950b979c63867d08cce",
       "version_major": 2,
       "version_minor": 0
      },
      "text/plain": [
       "Batches:   0%|          | 0/1 [00:00<?, ?it/s]"
      ]
     },
     "metadata": {},
     "output_type": "display_data"
    },
    {
     "name": "stdout",
     "output_type": "stream",
     "text": [
      "totaltime: 0.038728952407836914\n",
      "results :\n",
      "\t https://documentation.softwareag.com/webmethods/api_gateway/yai10-11/10-11_API_Gateway_webhelp/api-gateway-integrated-webhelp/ta-api_publish_single.html#\n",
      "\t https://documentation.softwareag.com/webmethods/api_gateway/yai10-11/10-11_API_Gateway_webhelp/api-gateway-integrated-webhelp/ta-api_tagging.html#\n",
      "\t https://documentation.softwareag.com/webmethods/api_gateway/yai10-11/10-11_API_Gateway_webhelp/api-gateway-integrated-webhelp/ta_retrieve_json_bearer_token.html#\n",
      "\t https://documentation.softwareag.com/webmethods/api_gateway/yai10-11/10-11_API_Gateway_webhelp/api-gateway-integrated-webhelp/gtw_manage_apis.html#\n",
      "\t https://documentation.softwareag.com/webmethods/api_gateway/yai10-11/10-11_API_Gateway_webhelp/api-gateway-integrated-webhelp/ta_retrieve_json_bearer_token.html#\n"
     ]
    }
   ],
   "source": [
    "query=str(input())\n",
    "results=search(query)\n",
    "print('results :')\n",
    "for result in results:\n",
    "    print('\\t',result)"
   ]
  },
  {
   "cell_type": "code",
   "execution_count": null,
   "metadata": {},
   "outputs": [],
   "source": []
  }
 ],
 "metadata": {
  "kernelspec": {
   "display_name": "Python 3.10.6 ('semanticSearch')",
   "language": "python",
   "name": "python3"
  },
  "language_info": {
   "codemirror_mode": {
    "name": "ipython",
    "version": 3
   },
   "file_extension": ".py",
   "mimetype": "text/x-python",
   "name": "python",
   "nbconvert_exporter": "python",
   "pygments_lexer": "ipython3",
   "version": "3.10.6"
  },
  "orig_nbformat": 4,
  "vscode": {
   "interpreter": {
    "hash": "c161c69aab48cf802d290df2b4f24514a9465c3f61854d10f9fe85cb8b9b6e58"
   }
  }
 },
 "nbformat": 4,
 "nbformat_minor": 2
}
