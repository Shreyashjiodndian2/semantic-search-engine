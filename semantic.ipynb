{
 "cells": [
  {
   "cell_type": "markdown",
   "metadata": {},
   "source": [
    "# Sentence Transformer"
   ]
  },
  {
   "cell_type": "code",
   "execution_count": 1,
   "metadata": {},
   "outputs": [],
   "source": [
    "from sentence_transformers import SentenceTransformer, util\n",
    "import torch\n",
    "import json"
   ]
  },
  {
   "cell_type": "code",
   "execution_count": 2,
   "metadata": {},
   "outputs": [
    {
     "data": {
      "text/plain": [
       "True"
      ]
     },
     "execution_count": 2,
     "metadata": {},
     "output_type": "execute_result"
    }
   ],
   "source": [
    "torch.cuda.is_available()"
   ]
  },
  {
   "cell_type": "code",
   "execution_count": 3,
   "metadata": {},
   "outputs": [],
   "source": [
    "embedder = SentenceTransformer('multi-qa-MiniLM-L6-cos-v1', device='cuda')\n"
   ]
  },
  {
   "cell_type": "code",
   "execution_count": 4,
   "metadata": {},
   "outputs": [],
   "source": [
    "data = json.load(open('data.json', 'r'))"
   ]
  },
  {
   "cell_type": "code",
   "execution_count": 5,
   "metadata": {},
   "outputs": [],
   "source": [
    "corpus = list()\n",
    "hrefList = list()\n",
    "for i in data:\n",
    "    corpus.extend(data[i]['data'])\n",
    "    hrefList.extend([data[i]['href']]*len(data[i]['data']))"
   ]
  },
  {
   "cell_type": "code",
   "execution_count": 6,
   "metadata": {},
   "outputs": [],
   "source": [
    "corpus_embeddings = embedder.encode(corpus, convert_to_tensor=True)"
   ]
  },
  {
   "cell_type": "code",
   "execution_count": 7,
   "metadata": {},
   "outputs": [],
   "source": [
    "top_k = min(5, len(corpus))"
   ]
  },
  {
   "cell_type": "code",
   "execution_count": 8,
   "metadata": {},
   "outputs": [],
   "source": [
    "query = \"how to update API by importing file\""
   ]
  },
  {
   "cell_type": "code",
   "execution_count": 9,
   "metadata": {},
   "outputs": [],
   "source": [
    "query_embedding = embedder.encode(query, convert_to_tensor=True)"
   ]
  },
  {
   "cell_type": "code",
   "execution_count": 10,
   "metadata": {},
   "outputs": [
    {
     "name": "stdout",
     "output_type": "stream",
     "text": [
      "Query: how to update API by importing file\n",
      "Top 5 most similar sentences in corpus:\n",
      "Updating an API by Importing an API from a File (Score: 0.9553) | href:https://documentation.softwareag.com/webmethods/api_gateway/yai10-11/10-11_API_Gateway_webhelp/api-gateway-integrated-webhelp/updating_apis_file.html#\n",
      "You can update an API by importing from file or from URL by clicking the Update button. (Score: 0.8579) | href:https://documentation.softwareag.com/webmethods/api_gateway/yai10-11/10-11_API_Gateway_webhelp/api-gateway-integrated-webhelp/re-api_details_rest.html#\n",
      "You can not update an API by importing an API from a file if the API is in the active state. (Score: 0.8418) | href:https://documentation.softwareag.com/webmethods/api_gateway/yai10-11/10-11_API_Gateway_webhelp/api-gateway-integrated-webhelp/updating_apis_file.html#\n",
      "4. Select Update API by importing from file. (Score: 0.8008) | href:https://documentation.softwareag.com/webmethods/api_gateway/yai10-11/10-11_API_Gateway_webhelp/api-gateway-integrated-webhelp/updating_apis_file.html#\n",
      "API Gateway 10.11 | Using API Gateway | APIs | Updating APIs | Updating an API by Importing an API from a File\n",
      "  (Score: 0.7449) | href:https://documentation.softwareag.com/webmethods/api_gateway/yai10-11/10-11_API_Gateway_webhelp/api-gateway-integrated-webhelp/updating_apis_file.html#\n"
     ]
    }
   ],
   "source": [
    "cos_scores = util.dot_score(query_embedding, corpus_embeddings)[0]\n",
    "top_results = torch.topk(cos_scores, k=top_k)\n",
    "print(\"Query:\", query)\n",
    "print(\"Top 5 most similar sentences in corpus:\")\n",
    "for score, idx in zip(top_results[0], top_results[1]):\n",
    "    print(corpus[idx], \"(Score: {:.4f}) | href:{}\".format(score, hrefList[idx]))"
   ]
  },
  {
   "cell_type": "code",
   "execution_count": 18,
   "metadata": {},
   "outputs": [
    {
     "data": {
      "text/plain": [
       "13855"
      ]
     },
     "execution_count": 18,
     "metadata": {},
     "output_type": "execute_result"
    }
   ],
   "source": [
    "len(hrefList)"
   ]
  },
  {
   "cell_type": "code",
   "execution_count": 11,
   "metadata": {},
   "outputs": [
    {
     "name": "stdout",
     "output_type": "stream",
     "text": [
      "Updating an API by Importing an API from a File (Score: 0.9553) | href:https://documentation.softwareag.com/webmethods/api_gateway/yai10-11/10-11_API_Gateway_webhelp/api-gateway-integrated-webhelp/updating_apis_file.html#\n",
      "You can update an API by importing from file or from URL by clicking the Update button. (Score: 0.8579) | href:https://documentation.softwareag.com/webmethods/api_gateway/yai10-11/10-11_API_Gateway_webhelp/api-gateway-integrated-webhelp/re-api_details_rest.html#\n",
      "You can not update an API by importing an API from a file if the API is in the active state. (Score: 0.8418) | href:https://documentation.softwareag.com/webmethods/api_gateway/yai10-11/10-11_API_Gateway_webhelp/api-gateway-integrated-webhelp/updating_apis_file.html#\n",
      "4. Select Update API by importing from file. (Score: 0.8008) | href:https://documentation.softwareag.com/webmethods/api_gateway/yai10-11/10-11_API_Gateway_webhelp/api-gateway-integrated-webhelp/updating_apis_file.html#\n",
      "API Gateway 10.11 | Using API Gateway | APIs | Updating APIs | Updating an API by Importing an API from a File\n",
      "  (Score: 0.7449) | href:https://documentation.softwareag.com/webmethods/api_gateway/yai10-11/10-11_API_Gateway_webhelp/api-gateway-integrated-webhelp/updating_apis_file.html#\n",
      "An API importer generates an API from a URL or an input file in one of the supported formats. (Score: 0.6101) | href:https://documentation.softwareag.com/webmethods/api_gateway/yai10-11/10-11_API_Gateway_webhelp/api-gateway-integrated-webhelp/gtw_manage_apis.html#\n",
      "\n",
      "If you do not provide an API name, the API name mentioned in the uploaded file is picked up and the API is updated with that name. (Score: 0.5949) | href:https://documentation.softwareag.com/webmethods/api_gateway/yai10-11/10-11_API_Gateway_webhelp/api-gateway-integrated-webhelp/updating_apis_file.html#\n",
      "If you do not provide an API name, the API name mentioned in the uploaded file is picked up and the API is updated with that name. (Score: 0.5949) | href:https://documentation.softwareag.com/webmethods/api_gateway/yai10-11/10-11_API_Gateway_webhelp/api-gateway-integrated-webhelp/updating_apis_file.html#\n",
      "This file is accessible only from API Gateway. (Score: 0.5634) | href:https://documentation.softwareag.com/webmethods/api_gateway/yai10-11/10-11_API_Gateway_webhelp/api-gateway-integrated-webhelp/co-overview_create_rest_api.html#\n",
      "The API definition is updated with the latest changes from the file and is displayed in the API details page. (Score: 0.5574) | href:https://documentation.softwareag.com/webmethods/api_gateway/yai10-11/10-11_API_Gateway_webhelp/api-gateway-integrated-webhelp/updating_apis_file.html#\n"
     ]
    }
   ],
   "source": [
    "semanticSearchResult = util.semantic_search(\n",
    "    query_embedding, corpus_embeddings)\n",
    "for i in semanticSearchResult[0]:\n",
    "    # print(i)\n",
    "    print(corpus[i['corpus_id']],\n",
    "          \"(Score: {:.4f}) | href:{}\".format(i['score'], hrefList[i['corpus_id']]))\n"
   ]
  },
  {
   "cell_type": "code",
   "execution_count": 20,
   "metadata": {},
   "outputs": [
    {
     "data": {
      "text/plain": [
       "'REST API'"
      ]
     },
     "execution_count": 20,
     "metadata": {},
     "output_type": "execute_result"
    }
   ],
   "source": [
    "corpus[semanticSearchResult[0][0]['corpus_id']]"
   ]
  },
  {
   "cell_type": "markdown",
   "metadata": {},
   "source": [
    "# FAISS"
   ]
  },
  {
   "cell_type": "code",
   "execution_count": 12,
   "metadata": {},
   "outputs": [],
   "source": [
    "import faiss\n",
    "import numpy as np\n",
    "from sentence_transformers import SentenceTransformer, util\n",
    "import json\n",
    "import time"
   ]
  },
  {
   "cell_type": "code",
   "execution_count": 13,
   "metadata": {},
   "outputs": [],
   "source": [
    "data = json.load(open('data.json', 'r'))\n",
    "corpus = list()\n",
    "hrefList = list()\n",
    "for i in data:\n",
    "    corpus.extend(data[i]['data'])\n",
    "    hrefList.extend([data[i]['href']]*len(data[i]['data']))"
   ]
  },
  {
   "cell_type": "code",
   "execution_count": 14,
   "metadata": {},
   "outputs": [
    {
     "data": {
      "application/vnd.jupyter.widget-view+json": {
       "model_id": "d63cff215c22498996739be080828470",
       "version_major": 2,
       "version_minor": 0
      },
      "text/plain": [
       "Batches:   0%|          | 0/652 [00:00<?, ?it/s]"
      ]
     },
     "metadata": {},
     "output_type": "display_data"
    }
   ],
   "source": [
    "faissModel = SentenceTransformer(\n",
    "    'distilbert-base-nli-mean-tokens', device='cuda')\n",
    "faissEmbedding = faissModel.encode(corpus, show_progress_bar=True)"
   ]
  },
  {
   "cell_type": "code",
   "execution_count": 15,
   "metadata": {},
   "outputs": [
    {
     "name": "stderr",
     "output_type": "stream",
     "text": [
      "WARNING clustering 20843 points to 10000 centroids: please provide at least 390000 training points\n"
     ]
    }
   ],
   "source": [
    "index = faiss.IndexHNSWFlat(faissEmbedding.shape[1], 32)\n",
    "index = faiss.IndexIVFPQ(index, faissEmbedding.shape[1], 10000, 16, 8)\n",
    "index.train(faissEmbedding)\n",
    "index.add(faissEmbedding)"
   ]
  },
  {
   "cell_type": "code",
   "execution_count": 16,
   "metadata": {},
   "outputs": [
    {
     "data": {
      "text/plain": [
       "<faiss.swigfaiss_avx2.IndexIVFPQ; proxy of <Swig Object of type 'faiss::IndexIVFPQ *' at 0x7f70163b55f0> >"
      ]
     },
     "execution_count": 16,
     "metadata": {},
     "output_type": "execute_result"
    }
   ],
   "source": [
    "faiss.write_index(index, 'faissHNSWFlat_IVFPQ.index')\n",
    "faiss.read_index('faissHNSWFlat_IVFPQ.index')"
   ]
  },
  {
   "cell_type": "code",
   "execution_count": 17,
   "metadata": {},
   "outputs": [],
   "source": [
    "def search(query):\n",
    "    t=time.time()\n",
    "    query_vector = faissModel.encode([query], show_progress_bar=True)\n",
    "    k = 5\n",
    "    top_k = index.search(query_vector, k)\n",
    "    print('totaltime: {}'.format(time.time()-t))\n",
    "    return [hrefList[_id] for _id in top_k[1].tolist()[0]]"
   ]
  },
  {
   "cell_type": "code",
   "execution_count": 18,
   "metadata": {},
   "outputs": [
    {
     "data": {
      "application/vnd.jupyter.widget-view+json": {
       "model_id": "ec9b22bc78384a23a33d5df6ac24e12a",
       "version_major": 2,
       "version_minor": 0
      },
      "text/plain": [
       "Batches:   0%|          | 0/1 [00:00<?, ?it/s]"
      ]
     },
     "metadata": {},
     "output_type": "display_data"
    },
    {
     "name": "stdout",
     "output_type": "stream",
     "text": [
      "totaltime: 0.03818464279174805\n",
      "results :\n",
      "\t https://documentation.softwareag.com/webmethods/api_gateway/yai10-11/10-11_API_Gateway_webhelp/api-gateway-integrated-webhelp/updating_apis_file.html#\n",
      "\t https://documentation.softwareag.com/webmethods/mywebmethods_server/mws10-11/10-11_MWSw/my-webmethods-server-webhelp/ta-allowing_users_to_access_the_workspace_management_page.html#\n",
      "\t https://documentation.softwareag.com/webmethods/mywebmethods_server/mws10-11/10-11_MWSw/my-webmethods-server-webhelp/to-system_2.html#\n",
      "\t https://documentation.softwareag.com/webmethods/mywebmethods_server/mws10-11/10-11_MWSw/my-webmethods-server-webhelp/to-system_2.html#\n",
      "\t https://documentation.softwareag.com/webmethods/mywebmethods_server/mws10-11/10-11_MWSw/my-webmethods-server-webhelp/to-system_2.html#\n"
     ]
    }
   ],
   "source": [
    "# query=str(input())\n",
    "results=search(query)\n",
    "print('results :')\n",
    "for result in results:\n",
    "    print('\\t',result)"
   ]
  },
  {
   "cell_type": "code",
   "execution_count": null,
   "metadata": {},
   "outputs": [],
   "source": []
  }
 ],
 "metadata": {
  "kernelspec": {
   "display_name": "Python 3.10.6 ('semanticSearch')",
   "language": "python",
   "name": "python3"
  },
  "language_info": {
   "codemirror_mode": {
    "name": "ipython",
    "version": 3
   },
   "file_extension": ".py",
   "mimetype": "text/x-python",
   "name": "python",
   "nbconvert_exporter": "python",
   "pygments_lexer": "ipython3",
   "version": "3.10.6"
  },
  "orig_nbformat": 4,
  "vscode": {
   "interpreter": {
    "hash": "c161c69aab48cf802d290df2b4f24514a9465c3f61854d10f9fe85cb8b9b6e58"
   }
  }
 },
 "nbformat": 4,
 "nbformat_minor": 2
}
